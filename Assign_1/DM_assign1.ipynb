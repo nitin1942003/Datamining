{
  "nbformat": 4,
  "nbformat_minor": 0,
  "metadata": {
    "colab": {
      "provenance": [],
      "toc_visible": true
    },
    "kernelspec": {
      "name": "python3",
      "display_name": "Python 3"
    },
    "language_info": {
      "name": "python"
    }
  },
  "cells": [
    {
      "cell_type": "code",
      "execution_count": null,
      "metadata": {
        "id": "HIajnBRMzWcK"
      },
      "outputs": [],
      "source": [
        "import pandas as pd"
      ]
    },
    {
      "cell_type": "code",
      "source": [
        "import numpy as np"
      ],
      "metadata": {
        "id": "peQq02yR_98s"
      },
      "execution_count": null,
      "outputs": []
    },
    {
      "cell_type": "code",
      "source": [
        "df=pd.read_csv('/content/dm_sample.csv')"
      ],
      "metadata": {
        "id": "Yqono6IAzemp"
      },
      "execution_count": null,
      "outputs": []
    },
    {
      "cell_type": "code",
      "source": [
        "df.info()"
      ],
      "metadata": {
        "colab": {
          "base_uri": "https://localhost:8080/"
        },
        "id": "jgaU5OaoBkwN",
        "outputId": "1de6ec25-a69d-486f-8f3c-82292e9b5959"
      },
      "execution_count": null,
      "outputs": [
        {
          "output_type": "stream",
          "name": "stdout",
          "text": [
            "<class 'pandas.core.frame.DataFrame'>\n",
            "RangeIndex: 10 entries, 0 to 9\n",
            "Data columns (total 5 columns):\n",
            " #   Column     Non-Null Count  Dtype  \n",
            "---  ------     --------------  -----  \n",
            " 0   Feature_1  10 non-null     float64\n",
            " 1   Feature_2  10 non-null     float64\n",
            " 2   Feature_3  10 non-null     float64\n",
            " 3   Feature_4  10 non-null     float64\n",
            " 4   Feature_5  10 non-null     float64\n",
            "dtypes: float64(5)\n",
            "memory usage: 532.0 bytes\n"
          ]
        }
      ]
    },
    {
      "cell_type": "code",
      "source": [
        "print(df.head())"
      ],
      "metadata": {
        "colab": {
          "base_uri": "https://localhost:8080/"
        },
        "id": "bipkYHyh_bZn",
        "outputId": "ec7d7835-0c51-4b73-bf95-c2162a1f4644"
      },
      "execution_count": null,
      "outputs": [
        {
          "output_type": "stream",
          "name": "stdout",
          "text": [
            "   Feature_1  Feature_2  Feature_3  Feature_4  Feature_5\n",
            "0   0.374540   0.950714   0.731994   0.598658   0.156019\n",
            "1   0.155995   0.058084   0.866176   0.601115   0.708073\n",
            "2   0.020584   0.969910   0.832443   0.212339   0.181825\n",
            "3   0.183405   0.304242   0.524756   0.431945   0.291229\n",
            "4   0.611853   0.139494   0.292145   0.366362   0.456070\n"
          ]
        }
      ]
    },
    {
      "cell_type": "code",
      "source": [
        "X=df.values"
      ],
      "metadata": {
        "id": "Log9ifG8_fUT"
      },
      "execution_count": null,
      "outputs": []
    },
    {
      "cell_type": "code",
      "source": [
        "print(\"Original Data: \\n\", X[:5])"
      ],
      "metadata": {
        "colab": {
          "base_uri": "https://localhost:8080/"
        },
        "id": "0z7IZb1RAMea",
        "outputId": "163516f7-9ef2-4a82-bd61-adf5a76718e0"
      },
      "execution_count": null,
      "outputs": [
        {
          "output_type": "stream",
          "name": "stdout",
          "text": [
            "Original Data: \n",
            " [[0.37454012 0.95071431 0.73199394 0.59865848 0.15601864]\n",
            " [0.15599452 0.05808361 0.86617615 0.60111501 0.70807258]\n",
            " [0.02058449 0.96990985 0.83244264 0.21233911 0.18182497]\n",
            " [0.18340451 0.30424224 0.52475643 0.43194502 0.29122914]\n",
            " [0.61185289 0.13949386 0.29214465 0.36636184 0.45606998]]\n"
          ]
        }
      ]
    },
    {
      "cell_type": "code",
      "source": [
        "mean_vec = np.mean(X, axis=0)\n",
        "print(\"Mean Vector: \\n\", mean_vec)"
      ],
      "metadata": {
        "colab": {
          "base_uri": "https://localhost:8080/"
        },
        "id": "43HRTuU6AfZ_",
        "outputId": "bc417089-03da-4d13-d3d5-500bda246d47"
      },
      "execution_count": null,
      "outputs": [
        {
          "output_type": "stream",
          "name": "stdout",
          "text": [
            "Mean Vector: \n",
            " [0.43320552 0.39041435 0.44789285 0.58919833 0.36890847]\n"
          ]
        }
      ]
    },
    {
      "cell_type": "code",
      "source": [
        "X_centered = X - mean_vec\n",
        "print(\"Centered Data: \\n\", X_centered[:5])"
      ],
      "metadata": {
        "colab": {
          "base_uri": "https://localhost:8080/"
        },
        "id": "AP9mG5UjAqox",
        "outputId": "228b3c03-9399-4f4a-b9ce-6351f0266f1d"
      },
      "execution_count": null,
      "outputs": [
        {
          "output_type": "stream",
          "name": "stdout",
          "text": [
            "Centered Data: \n",
            " [[-0.0586654   0.56029995  0.28410109  0.00946016 -0.21288983]\n",
            " [-0.277211   -0.33233074  0.4182833   0.01191668  0.33916411]\n",
            " [-0.41262103  0.5794955   0.38454979 -0.37685922 -0.1870835 ]\n",
            " [-0.24980101 -0.08617211  0.07686358 -0.15725331 -0.07767933]\n",
            " [ 0.17864737 -0.25092049 -0.1557482  -0.22283648  0.08716152]]\n"
          ]
        }
      ]
    },
    {
      "cell_type": "code",
      "source": [
        "cov_matrix = np.cov(X_centered, rowvar=False)\n",
        "print(\"Covariance Matrix: \\n\", cov_matrix)"
      ],
      "metadata": {
        "colab": {
          "base_uri": "https://localhost:8080/"
        },
        "id": "FSitSljqAzx9",
        "outputId": "2a80c354-dcb8-4f8a-b790-b5be4a8e05ec"
      },
      "execution_count": null,
      "outputs": [
        {
          "output_type": "stream",
          "name": "stdout",
          "text": [
            "Covariance Matrix: \n",
            " [[ 0.08770185 -0.0434962  -0.04087684  0.01569507  0.00444088]\n",
            " [-0.0434962   0.10442737  0.03645035 -0.02206237 -0.04760667]\n",
            " [-0.04087684  0.03645035  0.09817074 -0.0467601  -0.02807154]\n",
            " [ 0.01569507 -0.02206237 -0.0467601   0.0510377   0.02869526]\n",
            " [ 0.00444088 -0.04760667 -0.02807154  0.02869526  0.08001377]]\n"
          ]
        }
      ]
    },
    {
      "cell_type": "code",
      "source": [
        "eigenvalues, eigenvectors = np.linalg.eigh(cov_matrix)\n",
        "print(\"Eigenvalues: \\n\", eigenvalues)\n",
        "print(\"Eigenvectors: \\n\", eigenvectors)"
      ],
      "metadata": {
        "colab": {
          "base_uri": "https://localhost:8080/"
        },
        "id": "6VDivphYBIPM",
        "outputId": "776fae3e-4650-4b4e-b92c-afadbbf8dde4"
      },
      "execution_count": null,
      "outputs": [
        {
          "output_type": "stream",
          "name": "stdout",
          "text": [
            "Eigenvalues: \n",
            " [0.0191466  0.02788668 0.07386186 0.08343888 0.2170174 ]\n",
            "Eigenvectors: \n",
            " [[-0.02381222 -0.53985728 -0.3897827   0.62591669 -0.40532066]\n",
            " [ 0.12658256 -0.53045547  0.57314649  0.26208335  0.55263846]\n",
            " [-0.46347385 -0.3171279  -0.56255792 -0.29993546  0.52743644]\n",
            " [-0.83117369 -0.07839399  0.44187029 -0.03539682 -0.32634704]\n",
            " [ 0.27884068 -0.56608779  0.08861024 -0.66957181 -0.38159443]]\n"
          ]
        }
      ]
    },
    {
      "cell_type": "code",
      "source": [
        "sorted_indices = np.argsort(eigenvalues)[::-1]\n",
        "eigenvalues = eigenvalues[sorted_indices]\n",
        "eigenvectors = eigenvectors[:, sorted_indices]"
      ],
      "metadata": {
        "id": "PqBLUA70Bc9V"
      },
      "execution_count": null,
      "outputs": []
    },
    {
      "cell_type": "code",
      "source": [
        "top_eigenvectors = eigenvectors[:, :2]\n",
        "print(\"Top 2 Pricipal Components: \\n\", top_eigenvectors)"
      ],
      "metadata": {
        "colab": {
          "base_uri": "https://localhost:8080/"
        },
        "id": "hfTXBQKlCW5T",
        "outputId": "1ac755b8-bcdd-4a8b-ca8d-8a0d7a60d9c5"
      },
      "execution_count": null,
      "outputs": [
        {
          "output_type": "stream",
          "name": "stdout",
          "text": [
            "Top 2 Pricipal Components: \n",
            " [[-0.40532066  0.62591669]\n",
            " [ 0.55263846  0.26208335]\n",
            " [ 0.52743644 -0.29993546]\n",
            " [-0.32634704 -0.03539682]\n",
            " [-0.38159443 -0.66957181]]\n"
          ]
        }
      ]
    },
    {
      "cell_type": "code",
      "source": [
        "X_pca = X_centered @ top_eigenvectors\n",
        "df_pca = pd.DataFrame(data=X_pca, columns=['PC1', 'PC2'])\n",
        "print(\"Transformed Data: \\n\",df_pca.head())"
      ],
      "metadata": {
        "colab": {
          "base_uri": "https://localhost:8080/"
        },
        "id": "Vk0g1J95B60U",
        "outputId": "7405c762-1a56-4878-fef5-d43b22c11804"
      },
      "execution_count": null,
      "outputs": [
        {
          "output_type": "stream",
          "name": "stdout",
          "text": [
            "Transformed Data: \n",
            "         PC1       PC2\n",
            "0  0.561417  0.167124\n",
            "1  0.016006 -0.613584\n",
            "2  0.884698 -0.083125\n",
            "3  0.175129 -0.144415\n",
            "4 -0.253763  0.042298\n"
          ]
        }
      ]
    },
    {
      "cell_type": "code",
      "source": [
        "import matplotlib.pyplot as plt"
      ],
      "metadata": {
        "id": "ZbzFJxgpC5oo"
      },
      "execution_count": null,
      "outputs": []
    },
    {
      "cell_type": "code",
      "source": [
        "plt.figure(figsize=(8, 6))\n",
        "plt.scatter(df_pca['PC1'], df_pca['PC2'], color='blue', alpha=0.7)\n",
        "plt.xlabel('Principal Component 1')\n",
        "plt.ylabel('Principal Component 2')\n",
        "plt.title('PCA Projection (Manual Calculation)')\n",
        "plt.grid()\n",
        "plt.show()"
      ],
      "metadata": {
        "colab": {
          "base_uri": "https://localhost:8080/",
          "height": 507
        },
        "id": "w5Qh4Q5sC9zc",
        "outputId": "79c6dd8c-ad51-474c-d143-7e30d9ac6f51"
      },
      "execution_count": null,
      "outputs": [
        {
          "output_type": "display_data",
          "data": {
            "text/plain": [
              "<Figure size 800x600 with 1 Axes>"
            ],
            "image/png": "[encoded data removed]"
          },
          "metadata": {}
        }
      ]
    },
    {
      "cell_type": "code",
      "source": [],
      "metadata": {
        "id": "gG9synVfDAwV"
      },
      "execution_count": null,
      "outputs": []
    }
  ]
}